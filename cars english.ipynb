{
 "cells": [
  {
   "attachments": {},
   "cell_type": "markdown",
   "metadata": {},
   "source": [
    "# Determining the cost of cars"
   ]
  },
  {
   "attachments": {},
   "cell_type": "markdown",
   "metadata": {},
   "source": [
    "The application for quickly finding out the market value of your car, needs a machine learning tool capable of predicting price. Historical data is available: technical characteristics, configurations and prices of vehicles. Service to attract new customers will be built on the basis of this model. The following metrics are important:\n",
    "- quality of prediction;\n",
    "- prediction speed;\n",
    "- studying time."
   ]
  },
  {
   "attachments": {},
   "cell_type": "markdown",
   "metadata": {},
   "source": [
    "## Data preparation"
   ]
  },
  {
   "cell_type": "code",
   "execution_count": 1,
   "metadata": {},
   "outputs": [
    {
     "name": "stdout",
     "output_type": "stream",
     "text": [
      "Requirement already satisfied: catboost in /opt/conda/lib/python3.9/site-packages (1.0.3)\n",
      "Requirement already satisfied: matplotlib in /opt/conda/lib/python3.9/site-packages (from catboost) (3.3.4)\n",
      "Requirement already satisfied: numpy>=1.16.0 in /opt/conda/lib/python3.9/site-packages (from catboost) (1.21.1)\n",
      "Requirement already satisfied: plotly in /opt/conda/lib/python3.9/site-packages (from catboost) (5.4.0)\n",
      "Requirement already satisfied: scipy in /opt/conda/lib/python3.9/site-packages (from catboost) (1.9.1)\n",
      "Requirement already satisfied: graphviz in /opt/conda/lib/python3.9/site-packages (from catboost) (0.20.1)\n",
      "Requirement already satisfied: pandas>=0.24.0 in /opt/conda/lib/python3.9/site-packages (from catboost) (1.2.4)\n",
      "Requirement already satisfied: six in /opt/conda/lib/python3.9/site-packages (from catboost) (1.16.0)\n",
      "Requirement already satisfied: python-dateutil>=2.7.3 in /opt/conda/lib/python3.9/site-packages (from pandas>=0.24.0->catboost) (2.8.1)\n",
      "Requirement already satisfied: pytz>=2017.3 in /opt/conda/lib/python3.9/site-packages (from pandas>=0.24.0->catboost) (2021.1)\n",
      "Requirement already satisfied: pillow>=6.2.0 in /opt/conda/lib/python3.9/site-packages (from matplotlib->catboost) (8.4.0)\n",
      "Requirement already satisfied: pyparsing!=2.0.4,!=2.1.2,!=2.1.6,>=2.0.3 in /opt/conda/lib/python3.9/site-packages (from matplotlib->catboost) (2.4.7)\n",
      "Requirement already satisfied: kiwisolver>=1.0.1 in /opt/conda/lib/python3.9/site-packages (from matplotlib->catboost) (1.4.4)\n",
      "Requirement already satisfied: cycler>=0.10 in /opt/conda/lib/python3.9/site-packages (from matplotlib->catboost) (0.11.0)\n",
      "Requirement already satisfied: tenacity>=6.2.0 in /opt/conda/lib/python3.9/site-packages (from plotly->catboost) (8.0.1)\n",
      "Note: you may need to restart the kernel to use updated packages.\n"
     ]
    }
   ],
   "source": [
    "#pip install catboost --no-cache-dir"
   ]
  },
  {
   "cell_type": "code",
   "execution_count": 2,
   "metadata": {},
   "outputs": [
    {
     "name": "stdout",
     "output_type": "stream",
     "text": [
      "Requirement already satisfied: lightgbm in /opt/conda/lib/python3.9/site-packages (3.3.1)\n",
      "Requirement already satisfied: wheel in /opt/conda/lib/python3.9/site-packages (from lightgbm) (0.36.2)\n",
      "Requirement already satisfied: scipy in /opt/conda/lib/python3.9/site-packages (from lightgbm) (1.9.1)\n",
      "Requirement already satisfied: numpy in /opt/conda/lib/python3.9/site-packages (from lightgbm) (1.21.1)\n",
      "Requirement already satisfied: scikit-learn!=0.22.0 in /opt/conda/lib/python3.9/site-packages (from lightgbm) (0.24.1)\n",
      "Requirement already satisfied: threadpoolctl>=2.0.0 in /opt/conda/lib/python3.9/site-packages (from scikit-learn!=0.22.0->lightgbm) (3.1.0)\n",
      "Requirement already satisfied: joblib>=0.11 in /opt/conda/lib/python3.9/site-packages (from scikit-learn!=0.22.0->lightgbm) (1.1.0)\n"
     ]
    }
   ],
   "source": [
    "#!pip install lightgbm"
   ]
  },
  {
   "cell_type": "code",
   "execution_count": 3,
   "metadata": {},
   "outputs": [],
   "source": [
    "import pandas as pd\n",
    "import seaborn as sns\n",
    "import matplotlib.pyplot as plt\n",
    "import numpy as np\n",
    "\n",
    "from sklearn.linear_model import LinearRegression, Ridge\n",
    "from sklearn.model_selection import train_test_split, GridSearchCV\n",
    "from sklearn.impute import KNNImputer\n",
    "from sklearn.metrics import mean_squared_error, r2_score, make_scorer\n",
    "from sklearn.ensemble import RandomForestRegressor\n",
    "from sklearn.datasets import make_regression\n",
    "from sklearn.preprocessing import OneHotEncoder, StandardScaler\n",
    "from catboost import CatBoostRegressor\n",
    "from sklearn.tree import DecisionTreeRegressor\n",
    "from lightgbm import LGBMRegressor\n",
    "from sklearn.dummy import DummyRegressor\n",
    "from sklearn.preprocessing import OrdinalEncoder"
   ]
  },
  {
   "cell_type": "code",
   "execution_count": 4,
   "metadata": {},
   "outputs": [],
   "source": [
    "#Importing data\n",
    "import os\n",
    "\n",
    "pth1 = '/datasets/autos.csv'\n",
    "pth2 = 'D:\\\\Python\\\\Jupyter\\\\autos.csv'\n",
    "pth3 = 'D:\\\\Kate\\\\Python\\\\jupyter\\\\autos.csv'\n",
    "pth4 = 'C:\\\\Users\\\\user\\\\Documents\\\\jupyter\\\\autos.csv'\n",
    "\n",
    "if os.path.exists(pth1):\n",
    "    df = pd.read_csv(pth1)\n",
    "elif os.path.exists(pth2):\n",
    "    df = pd.read_csv(pth2)\n",
    "elif os.path.exists(pth3):\n",
    "    df = pd.read_csv(pth3)\n",
    "elif os.path.exists(pth4):\n",
    "    df = pd.read_csv(pth4)\n",
    "else:\n",
    "    print('Something is wrong')"
   ]
  },
  {
   "cell_type": "code",
   "execution_count": 5,
   "metadata": {},
   "outputs": [
    {
     "data": {
      "text/html": [
       "<div>\n",
       "<style scoped>\n",
       "    .dataframe tbody tr th:only-of-type {\n",
       "        vertical-align: middle;\n",
       "    }\n",
       "\n",
       "    .dataframe tbody tr th {\n",
       "        vertical-align: top;\n",
       "    }\n",
       "\n",
       "    .dataframe thead th {\n",
       "        text-align: right;\n",
       "    }\n",
       "</style>\n",
       "<table border=\"1\" class=\"dataframe\">\n",
       "  <thead>\n",
       "    <tr style=\"text-align: right;\">\n",
       "      <th></th>\n",
       "      <th>DateCrawled</th>\n",
       "      <th>Price</th>\n",
       "      <th>VehicleType</th>\n",
       "      <th>RegistrationYear</th>\n",
       "      <th>Gearbox</th>\n",
       "      <th>Power</th>\n",
       "      <th>Model</th>\n",
       "      <th>Kilometer</th>\n",
       "      <th>RegistrationMonth</th>\n",
       "      <th>FuelType</th>\n",
       "      <th>Brand</th>\n",
       "      <th>Repaired</th>\n",
       "      <th>DateCreated</th>\n",
       "      <th>NumberOfPictures</th>\n",
       "      <th>PostalCode</th>\n",
       "      <th>LastSeen</th>\n",
       "    </tr>\n",
       "  </thead>\n",
       "  <tbody>\n",
       "    <tr>\n",
       "      <th>0</th>\n",
       "      <td>2016-03-24 11:52:17</td>\n",
       "      <td>480</td>\n",
       "      <td>NaN</td>\n",
       "      <td>1993</td>\n",
       "      <td>manual</td>\n",
       "      <td>0</td>\n",
       "      <td>golf</td>\n",
       "      <td>150000</td>\n",
       "      <td>0</td>\n",
       "      <td>petrol</td>\n",
       "      <td>volkswagen</td>\n",
       "      <td>NaN</td>\n",
       "      <td>2016-03-24 00:00:00</td>\n",
       "      <td>0</td>\n",
       "      <td>70435</td>\n",
       "      <td>2016-04-07 03:16:57</td>\n",
       "    </tr>\n",
       "    <tr>\n",
       "      <th>1</th>\n",
       "      <td>2016-03-24 10:58:45</td>\n",
       "      <td>18300</td>\n",
       "      <td>coupe</td>\n",
       "      <td>2011</td>\n",
       "      <td>manual</td>\n",
       "      <td>190</td>\n",
       "      <td>NaN</td>\n",
       "      <td>125000</td>\n",
       "      <td>5</td>\n",
       "      <td>gasoline</td>\n",
       "      <td>audi</td>\n",
       "      <td>yes</td>\n",
       "      <td>2016-03-24 00:00:00</td>\n",
       "      <td>0</td>\n",
       "      <td>66954</td>\n",
       "      <td>2016-04-07 01:46:50</td>\n",
       "    </tr>\n",
       "    <tr>\n",
       "      <th>2</th>\n",
       "      <td>2016-03-14 12:52:21</td>\n",
       "      <td>9800</td>\n",
       "      <td>suv</td>\n",
       "      <td>2004</td>\n",
       "      <td>auto</td>\n",
       "      <td>163</td>\n",
       "      <td>grand</td>\n",
       "      <td>125000</td>\n",
       "      <td>8</td>\n",
       "      <td>gasoline</td>\n",
       "      <td>jeep</td>\n",
       "      <td>NaN</td>\n",
       "      <td>2016-03-14 00:00:00</td>\n",
       "      <td>0</td>\n",
       "      <td>90480</td>\n",
       "      <td>2016-04-05 12:47:46</td>\n",
       "    </tr>\n",
       "    <tr>\n",
       "      <th>3</th>\n",
       "      <td>2016-03-17 16:54:04</td>\n",
       "      <td>1500</td>\n",
       "      <td>small</td>\n",
       "      <td>2001</td>\n",
       "      <td>manual</td>\n",
       "      <td>75</td>\n",
       "      <td>golf</td>\n",
       "      <td>150000</td>\n",
       "      <td>6</td>\n",
       "      <td>petrol</td>\n",
       "      <td>volkswagen</td>\n",
       "      <td>no</td>\n",
       "      <td>2016-03-17 00:00:00</td>\n",
       "      <td>0</td>\n",
       "      <td>91074</td>\n",
       "      <td>2016-03-17 17:40:17</td>\n",
       "    </tr>\n",
       "    <tr>\n",
       "      <th>4</th>\n",
       "      <td>2016-03-31 17:25:20</td>\n",
       "      <td>3600</td>\n",
       "      <td>small</td>\n",
       "      <td>2008</td>\n",
       "      <td>manual</td>\n",
       "      <td>69</td>\n",
       "      <td>fabia</td>\n",
       "      <td>90000</td>\n",
       "      <td>7</td>\n",
       "      <td>gasoline</td>\n",
       "      <td>skoda</td>\n",
       "      <td>no</td>\n",
       "      <td>2016-03-31 00:00:00</td>\n",
       "      <td>0</td>\n",
       "      <td>60437</td>\n",
       "      <td>2016-04-06 10:17:21</td>\n",
       "    </tr>\n",
       "  </tbody>\n",
       "</table>\n",
       "</div>"
      ],
      "text/plain": [
       "           DateCrawled  Price VehicleType  RegistrationYear Gearbox  Power  \\\n",
       "0  2016-03-24 11:52:17    480         NaN              1993  manual      0   \n",
       "1  2016-03-24 10:58:45  18300       coupe              2011  manual    190   \n",
       "2  2016-03-14 12:52:21   9800         suv              2004    auto    163   \n",
       "3  2016-03-17 16:54:04   1500       small              2001  manual     75   \n",
       "4  2016-03-31 17:25:20   3600       small              2008  manual     69   \n",
       "\n",
       "   Model  Kilometer  RegistrationMonth  FuelType       Brand Repaired  \\\n",
       "0   golf     150000                  0    petrol  volkswagen      NaN   \n",
       "1    NaN     125000                  5  gasoline        audi      yes   \n",
       "2  grand     125000                  8  gasoline        jeep      NaN   \n",
       "3   golf     150000                  6    petrol  volkswagen       no   \n",
       "4  fabia      90000                  7  gasoline       skoda       no   \n",
       "\n",
       "           DateCreated  NumberOfPictures  PostalCode             LastSeen  \n",
       "0  2016-03-24 00:00:00                 0       70435  2016-04-07 03:16:57  \n",
       "1  2016-03-24 00:00:00                 0       66954  2016-04-07 01:46:50  \n",
       "2  2016-03-14 00:00:00                 0       90480  2016-04-05 12:47:46  \n",
       "3  2016-03-17 00:00:00                 0       91074  2016-03-17 17:40:17  \n",
       "4  2016-03-31 00:00:00                 0       60437  2016-04-06 10:17:21  "
      ]
     },
     "execution_count": 5,
     "metadata": {},
     "output_type": "execute_result"
    }
   ],
   "source": [
    "#Displaying the data\n",
    "df.head()"
   ]
  },
  {
   "cell_type": "code",
   "execution_count": 6,
   "metadata": {},
   "outputs": [
    {
     "name": "stdout",
     "output_type": "stream",
     "text": [
      "<class 'pandas.core.frame.DataFrame'>\n",
      "RangeIndex: 354369 entries, 0 to 354368\n",
      "Data columns (total 16 columns):\n",
      " #   Column             Non-Null Count   Dtype \n",
      "---  ------             --------------   ----- \n",
      " 0   DateCrawled        354369 non-null  object\n",
      " 1   Price              354369 non-null  int64 \n",
      " 2   VehicleType        316879 non-null  object\n",
      " 3   RegistrationYear   354369 non-null  int64 \n",
      " 4   Gearbox            334536 non-null  object\n",
      " 5   Power              354369 non-null  int64 \n",
      " 6   Model              334664 non-null  object\n",
      " 7   Kilometer          354369 non-null  int64 \n",
      " 8   RegistrationMonth  354369 non-null  int64 \n",
      " 9   FuelType           321474 non-null  object\n",
      " 10  Brand              354369 non-null  object\n",
      " 11  Repaired           283215 non-null  object\n",
      " 12  DateCreated        354369 non-null  object\n",
      " 13  NumberOfPictures   354369 non-null  int64 \n",
      " 14  PostalCode         354369 non-null  int64 \n",
      " 15  LastSeen           354369 non-null  object\n",
      "dtypes: int64(7), object(9)\n",
      "memory usage: 43.3+ MB\n"
     ]
    }
   ],
   "source": [
    "#Information about the data provided\n",
    "df.info()"
   ]
  },
  {
   "attachments": {},
   "cell_type": "markdown",
   "metadata": {},
   "source": [
    "From the project documentation:\n",
    "\n",
    "* `DateCrawled` — date of downloading from the database\n",
    "* `VehicleType` — car body type\n",
    "* `RegistrationYear` - year of car registration\n",
    "* `Gearbox` — gear box type\n",
    "* `Power` - power (hp)\n",
    "* `Model` — car model\n",
    "* `Kilometer` — mileage (km)\n",
    "* `RegistrationMonth` — car registration month\n",
    "* `FuelType` — fuel type\n",
    "* `Brand` — car brand\n",
    "* `Repaired` - was the car under repair or not\n",
    "* `DateCreated` — date of creation of the questionnaire\n",
    "* `NumberOfPictures` - the number of photos of the car\n",
    "* `PostalCode` — postal code of the owner of the profile (user)\n",
    "* `LastSeen` — date of last user activity"
   ]
  },
  {
   "attachments": {},
   "cell_type": "markdown",
   "metadata": {},
   "source": [
    "To preprocess the data, do the following:\n",
    "1. Rename columns according to good style\n",
    "2. Replace data types\n",
    "3. Discard non-essential data columns\n",
    "4. Check values for abnormal\n",
    "5. Get rid of gaps\n",
    "6. Remove duplicates\n",
    "7. Check for correlation"
   ]
  },
  {
   "cell_type": "code",
   "execution_count": 1,
   "metadata": {},
   "outputs": [
    {
     "ename": "NameError",
     "evalue": "name 'df' is not defined",
     "output_type": "error",
     "traceback": [
      "\u001b[1;31m---------------------------------------------------------------------------\u001b[0m",
      "\u001b[1;31mNameError\u001b[0m                                 Traceback (most recent call last)",
      "\u001b[1;32m~\\AppData\\Local\\Temp\\ipykernel_19148\\3593584040.py\u001b[0m in \u001b[0;36m<module>\u001b[1;34m\u001b[0m\n\u001b[0;32m      1\u001b[0m \u001b[1;31m#Splitting column names into words\u001b[0m\u001b[1;33m\u001b[0m\u001b[1;33m\u001b[0m\u001b[0m\n\u001b[1;32m----> 2\u001b[1;33m \u001b[0mdf\u001b[0m \u001b[1;33m=\u001b[0m \u001b[0mdf\u001b[0m\u001b[1;33m.\u001b[0m\u001b[0mrename\u001b[0m\u001b[1;33m(\u001b[0m\u001b[0mcolumns\u001b[0m\u001b[1;33m=\u001b[0m\u001b[1;33m{\u001b[0m\u001b[1;34m'DateCrawled'\u001b[0m\u001b[1;33m:\u001b[0m \u001b[1;34m'Date Crawled'\u001b[0m\u001b[1;33m,\u001b[0m \u001b[1;34m'VehicleType'\u001b[0m\u001b[1;33m:\u001b[0m \u001b[1;34m'Vehicle Type'\u001b[0m\u001b[1;33m,\u001b[0m \u001b[1;34m'RegistrationYear'\u001b[0m\u001b[1;33m:\u001b[0m \u001b[1;34m'Registration Year'\u001b[0m\u001b[1;33m,\u001b[0m \u001b[1;34m'RegistrationMonth'\u001b[0m\u001b[1;33m:\u001b[0m \u001b[1;34m'Registration Month'\u001b[0m\u001b[1;33m,\u001b[0m \u001b[1;34m'FuelType'\u001b[0m\u001b[1;33m:\u001b[0m \u001b[1;34m'Fuel Type'\u001b[0m\u001b[1;33m,\u001b[0m \u001b[1;34m'NumberOfPictures'\u001b[0m\u001b[1;33m:\u001b[0m \u001b[1;34m'Number Of Pictures'\u001b[0m\u001b[1;33m,\u001b[0m \u001b[1;34m'PostalCode'\u001b[0m\u001b[1;33m:\u001b[0m \u001b[1;34m'Postal Code'\u001b[0m\u001b[1;33m,\u001b[0m \u001b[1;34m'LastSeen'\u001b[0m\u001b[1;33m:\u001b[0m \u001b[1;34m'Last Seen'\u001b[0m\u001b[1;33m}\u001b[0m\u001b[1;33m)\u001b[0m\u001b[1;33m\u001b[0m\u001b[1;33m\u001b[0m\u001b[0m\n\u001b[0m",
      "\u001b[1;31mNameError\u001b[0m: name 'df' is not defined"
     ]
    }
   ],
   "source": [
    "#Splitting column names into words\n",
    "df = df.rename(columns={'DateCrawled': 'Date Crawled', 'VehicleType': 'Vehicle Type', 'RegistrationYear': 'Registration Year', 'RegistrationMonth': 'Registration Month', 'FuelType': 'Fuel Type', 'NumberOfPictures': 'Number Of Pictures', 'PostalCode': 'Postal Code', 'LastSeen': 'Last Seen'})"
   ]
  },
  {
   "cell_type": "code",
   "execution_count": 8,
   "metadata": {},
   "outputs": [],
   "source": [
    "#Add an underscore instead of a space\n",
    "df.rename(columns=lambda x: x.lower().replace(\" \", \"_\"), inplace=True)"
   ]
  },
  {
   "cell_type": "code",
   "execution_count": 9,
   "metadata": {},
   "outputs": [
    {
     "data": {
      "text/html": [
       "<div>\n",
       "<style scoped>\n",
       "    .dataframe tbody tr th:only-of-type {\n",
       "        vertical-align: middle;\n",
       "    }\n",
       "\n",
       "    .dataframe tbody tr th {\n",
       "        vertical-align: top;\n",
       "    }\n",
       "\n",
       "    .dataframe thead th {\n",
       "        text-align: right;\n",
       "    }\n",
       "</style>\n",
       "<table border=\"1\" class=\"dataframe\">\n",
       "  <thead>\n",
       "    <tr style=\"text-align: right;\">\n",
       "      <th></th>\n",
       "      <th>date_crawled</th>\n",
       "      <th>price</th>\n",
       "      <th>vehicle_type</th>\n",
       "      <th>registration_year</th>\n",
       "      <th>gearbox</th>\n",
       "      <th>power</th>\n",
       "      <th>model</th>\n",
       "      <th>kilometer</th>\n",
       "      <th>registration_month</th>\n",
       "      <th>fuel_type</th>\n",
       "      <th>brand</th>\n",
       "      <th>repaired</th>\n",
       "      <th>datecreated</th>\n",
       "      <th>number_of_pictures</th>\n",
       "      <th>postal_code</th>\n",
       "      <th>last_seen</th>\n",
       "    </tr>\n",
       "  </thead>\n",
       "  <tbody>\n",
       "    <tr>\n",
       "      <th>0</th>\n",
       "      <td>2016-03-24 11:52:17</td>\n",
       "      <td>480</td>\n",
       "      <td>NaN</td>\n",
       "      <td>1993</td>\n",
       "      <td>manual</td>\n",
       "      <td>0</td>\n",
       "      <td>golf</td>\n",
       "      <td>150000</td>\n",
       "      <td>0</td>\n",
       "      <td>petrol</td>\n",
       "      <td>volkswagen</td>\n",
       "      <td>NaN</td>\n",
       "      <td>2016-03-24 00:00:00</td>\n",
       "      <td>0</td>\n",
       "      <td>70435</td>\n",
       "      <td>2016-04-07 03:16:57</td>\n",
       "    </tr>\n",
       "    <tr>\n",
       "      <th>1</th>\n",
       "      <td>2016-03-24 10:58:45</td>\n",
       "      <td>18300</td>\n",
       "      <td>coupe</td>\n",
       "      <td>2011</td>\n",
       "      <td>manual</td>\n",
       "      <td>190</td>\n",
       "      <td>NaN</td>\n",
       "      <td>125000</td>\n",
       "      <td>5</td>\n",
       "      <td>gasoline</td>\n",
       "      <td>audi</td>\n",
       "      <td>yes</td>\n",
       "      <td>2016-03-24 00:00:00</td>\n",
       "      <td>0</td>\n",
       "      <td>66954</td>\n",
       "      <td>2016-04-07 01:46:50</td>\n",
       "    </tr>\n",
       "    <tr>\n",
       "      <th>2</th>\n",
       "      <td>2016-03-14 12:52:21</td>\n",
       "      <td>9800</td>\n",
       "      <td>suv</td>\n",
       "      <td>2004</td>\n",
       "      <td>auto</td>\n",
       "      <td>163</td>\n",
       "      <td>grand</td>\n",
       "      <td>125000</td>\n",
       "      <td>8</td>\n",
       "      <td>gasoline</td>\n",
       "      <td>jeep</td>\n",
       "      <td>NaN</td>\n",
       "      <td>2016-03-14 00:00:00</td>\n",
       "      <td>0</td>\n",
       "      <td>90480</td>\n",
       "      <td>2016-04-05 12:47:46</td>\n",
       "    </tr>\n",
       "    <tr>\n",
       "      <th>3</th>\n",
       "      <td>2016-03-17 16:54:04</td>\n",
       "      <td>1500</td>\n",
       "      <td>small</td>\n",
       "      <td>2001</td>\n",
       "      <td>manual</td>\n",
       "      <td>75</td>\n",
       "      <td>golf</td>\n",
       "      <td>150000</td>\n",
       "      <td>6</td>\n",
       "      <td>petrol</td>\n",
       "      <td>volkswagen</td>\n",
       "      <td>no</td>\n",
       "      <td>2016-03-17 00:00:00</td>\n",
       "      <td>0</td>\n",
       "      <td>91074</td>\n",
       "      <td>2016-03-17 17:40:17</td>\n",
       "    </tr>\n",
       "    <tr>\n",
       "      <th>4</th>\n",
       "      <td>2016-03-31 17:25:20</td>\n",
       "      <td>3600</td>\n",
       "      <td>small</td>\n",
       "      <td>2008</td>\n",
       "      <td>manual</td>\n",
       "      <td>69</td>\n",
       "      <td>fabia</td>\n",
       "      <td>90000</td>\n",
       "      <td>7</td>\n",
       "      <td>gasoline</td>\n",
       "      <td>skoda</td>\n",
       "      <td>no</td>\n",
       "      <td>2016-03-31 00:00:00</td>\n",
       "      <td>0</td>\n",
       "      <td>60437</td>\n",
       "      <td>2016-04-06 10:17:21</td>\n",
       "    </tr>\n",
       "  </tbody>\n",
       "</table>\n",
       "</div>"
      ],
      "text/plain": [
       "          date_crawled  price vehicle_type  registration_year gearbox  power  \\\n",
       "0  2016-03-24 11:52:17    480          NaN               1993  manual      0   \n",
       "1  2016-03-24 10:58:45  18300        coupe               2011  manual    190   \n",
       "2  2016-03-14 12:52:21   9800          suv               2004    auto    163   \n",
       "3  2016-03-17 16:54:04   1500        small               2001  manual     75   \n",
       "4  2016-03-31 17:25:20   3600        small               2008  manual     69   \n",
       "\n",
       "   model  kilometer  registration_month fuel_type       brand repaired  \\\n",
       "0   golf     150000                   0    petrol  volkswagen      NaN   \n",
       "1    NaN     125000                   5  gasoline        audi      yes   \n",
       "2  grand     125000                   8  gasoline        jeep      NaN   \n",
       "3   golf     150000                   6    petrol  volkswagen       no   \n",
       "4  fabia      90000                   7  gasoline       skoda       no   \n",
       "\n",
       "           datecreated  number_of_pictures  postal_code            last_seen  \n",
       "0  2016-03-24 00:00:00                   0        70435  2016-04-07 03:16:57  \n",
       "1  2016-03-24 00:00:00                   0        66954  2016-04-07 01:46:50  \n",
       "2  2016-03-14 00:00:00                   0        90480  2016-04-05 12:47:46  \n",
       "3  2016-03-17 00:00:00                   0        91074  2016-03-17 17:40:17  \n",
       "4  2016-03-31 00:00:00                   0        60437  2016-04-06 10:17:21  "
      ]
     },
     "execution_count": 9,
     "metadata": {},
     "output_type": "execute_result"
    }
   ],
   "source": [
    "df.head(5)"
   ]
  },
  {
   "attachments": {},
   "cell_type": "markdown",
   "metadata": {},
   "source": [
    "Translate the date data into the datetime type and check which time range the data belongs to"
   ]
  },
  {
   "cell_type": "code",
   "execution_count": 10,
   "metadata": {},
   "outputs": [
    {
     "data": {
      "text/plain": [
       "<AxesSubplot:>"
      ]
     },
     "execution_count": 10,
     "metadata": {},
     "output_type": "execute_result"
    },
    {
     "data": {
      "image/png": "[encoded data removed]",
      "text/plain": [
       "<Figure size 432x288 with 1 Axes>"
      ]
     },
     "metadata": {
      "needs_background": "light"
     },
     "output_type": "display_data"
    }
   ],
   "source": [
    "df['date_crawled'] = pd.to_datetime(df['date_crawled'])\n",
    "df['date_crawled'].dt.year.hist()"
   ]
  },
  {
   "attachments": {},
   "cell_type": "markdown",
   "metadata": {},
   "source": [
    "Check the data on the number of photos."
   ]
  },
  {
   "cell_type": "code",
   "execution_count": 11,
   "metadata": {},
   "outputs": [
    {
     "data": {
      "text/plain": [
       "<AxesSubplot:>"
      ]
     },
     "execution_count": 11,
     "metadata": {},
     "output_type": "execute_result"
    },
    {
     "data": {
      "image/png": "[encoded data removed]",
      "text/plain": [
       "<Figure size 432x288 with 1 Axes>"
      ]
     },
     "metadata": {
      "needs_background": "light"
     },
     "output_type": "display_data"
    }
   ],
   "source": [
    "df['number_of_pictures'].hist()"
   ]
  },
  {
   "attachments": {},
   "cell_type": "markdown",
   "metadata": {},
   "source": [
    "All data refer to 2016, so let's delete this column. In all rows of the column with the number of photos is 0, delete this column as well. Remove the columns with the month of registration, the time the profile was created, the postal code, and the time of the last activity."
   ]
  },
  {
   "cell_type": "code",
   "execution_count": 12,
   "metadata": {},
   "outputs": [
    {
     "data": {
      "text/html": [
       "<div>\n",
       "<style scoped>\n",
       "    .dataframe tbody tr th:only-of-type {\n",
       "        vertical-align: middle;\n",
       "    }\n",
       "\n",
       "    .dataframe tbody tr th {\n",
       "        vertical-align: top;\n",
       "    }\n",
       "\n",
       "    .dataframe thead th {\n",
       "        text-align: right;\n",
       "    }\n",
       "</style>\n",
       "<table border=\"1\" class=\"dataframe\">\n",
       "  <thead>\n",
       "    <tr style=\"text-align: right;\">\n",
       "      <th></th>\n",
       "      <th>price</th>\n",
       "      <th>vehicle_type</th>\n",
       "      <th>registration_year</th>\n",
       "      <th>gearbox</th>\n",
       "      <th>power</th>\n",
       "      <th>model</th>\n",
       "      <th>kilometer</th>\n",
       "      <th>fuel_type</th>\n",
       "      <th>brand</th>\n",
       "      <th>repaired</th>\n",
       "    </tr>\n",
       "  </thead>\n",
       "  <tbody>\n",
       "    <tr>\n",
       "      <th>0</th>\n",
       "      <td>480</td>\n",
       "      <td>NaN</td>\n",
       "      <td>1993</td>\n",
       "      <td>manual</td>\n",
       "      <td>0</td>\n",
       "      <td>golf</td>\n",
       "      <td>150000</td>\n",
       "      <td>petrol</td>\n",
       "      <td>volkswagen</td>\n",
       "      <td>NaN</td>\n",
       "    </tr>\n",
       "    <tr>\n",
       "      <th>1</th>\n",
       "      <td>18300</td>\n",
       "      <td>coupe</td>\n",
       "      <td>2011</td>\n",
       "      <td>manual</td>\n",
       "      <td>190</td>\n",
       "      <td>NaN</td>\n",
       "      <td>125000</td>\n",
       "      <td>gasoline</td>\n",
       "      <td>audi</td>\n",
       "      <td>yes</td>\n",
       "    </tr>\n",
       "    <tr>\n",
       "      <th>2</th>\n",
       "      <td>9800</td>\n",
       "      <td>suv</td>\n",
       "      <td>2004</td>\n",
       "      <td>auto</td>\n",
       "      <td>163</td>\n",
       "      <td>grand</td>\n",
       "      <td>125000</td>\n",
       "      <td>gasoline</td>\n",
       "      <td>jeep</td>\n",
       "      <td>NaN</td>\n",
       "    </tr>\n",
       "    <tr>\n",
       "      <th>3</th>\n",
       "      <td>1500</td>\n",
       "      <td>small</td>\n",
       "      <td>2001</td>\n",
       "      <td>manual</td>\n",
       "      <td>75</td>\n",
       "      <td>golf</td>\n",
       "      <td>150000</td>\n",
       "      <td>petrol</td>\n",
       "      <td>volkswagen</td>\n",
       "      <td>no</td>\n",
       "    </tr>\n",
       "    <tr>\n",
       "      <th>4</th>\n",
       "      <td>3600</td>\n",
       "      <td>small</td>\n",
       "      <td>2008</td>\n",
       "      <td>manual</td>\n",
       "      <td>69</td>\n",
       "      <td>fabia</td>\n",
       "      <td>90000</td>\n",
       "      <td>gasoline</td>\n",
       "      <td>skoda</td>\n",
       "      <td>no</td>\n",
       "    </tr>\n",
       "  </tbody>\n",
       "</table>\n",
       "</div>"
      ],
      "text/plain": [
       "   price vehicle_type  registration_year gearbox  power  model  kilometer  \\\n",
       "0    480          NaN               1993  manual      0   golf     150000   \n",
       "1  18300        coupe               2011  manual    190    NaN     125000   \n",
       "2   9800          suv               2004    auto    163  grand     125000   \n",
       "3   1500        small               2001  manual     75   golf     150000   \n",
       "4   3600        small               2008  manual     69  fabia      90000   \n",
       "\n",
       "  fuel_type       brand repaired  \n",
       "0    petrol  volkswagen      NaN  \n",
       "1  gasoline        audi      yes  \n",
       "2  gasoline        jeep      NaN  \n",
       "3    petrol  volkswagen       no  \n",
       "4  gasoline       skoda       no  "
      ]
     },
     "execution_count": 12,
     "metadata": {},
     "output_type": "execute_result"
    }
   ],
   "source": [
    "columns_to_drop = ['date_crawled','registration_month', 'datecreated', 'number_of_pictures', 'postal_code', 'last_seen']\n",
    "df = df.drop(columns=columns_to_drop)\n",
    "df.head()"
   ]
  },
  {
   "attachments": {},
   "cell_type": "markdown",
   "metadata": {},
   "source": [
    "Check the numerical data for anomalies"
   ]
  },
  {
   "cell_type": "code",
   "execution_count": 13,
   "metadata": {},
   "outputs": [
    {
     "data": {
      "text/html": [
       "<div>\n",
       "<style scoped>\n",
       "    .dataframe tbody tr th:only-of-type {\n",
       "        vertical-align: middle;\n",
       "    }\n",
       "\n",
       "    .dataframe tbody tr th {\n",
       "        vertical-align: top;\n",
       "    }\n",
       "\n",
       "    .dataframe thead th {\n",
       "        text-align: right;\n",
       "    }\n",
       "</style>\n",
       "<table border=\"1\" class=\"dataframe\">\n",
       "  <thead>\n",
       "    <tr style=\"text-align: right;\">\n",
       "      <th></th>\n",
       "      <th>price</th>\n",
       "      <th>registration_year</th>\n",
       "      <th>power</th>\n",
       "      <th>kilometer</th>\n",
       "    </tr>\n",
       "  </thead>\n",
       "  <tbody>\n",
       "    <tr>\n",
       "      <th>count</th>\n",
       "      <td>354369.000000</td>\n",
       "      <td>354369.000000</td>\n",
       "      <td>354369.000000</td>\n",
       "      <td>354369.000000</td>\n",
       "    </tr>\n",
       "    <tr>\n",
       "      <th>mean</th>\n",
       "      <td>4416.656776</td>\n",
       "      <td>2004.234448</td>\n",
       "      <td>110.094337</td>\n",
       "      <td>128211.172535</td>\n",
       "    </tr>\n",
       "    <tr>\n",
       "      <th>std</th>\n",
       "      <td>4514.158514</td>\n",
       "      <td>90.227958</td>\n",
       "      <td>189.850405</td>\n",
       "      <td>37905.341530</td>\n",
       "    </tr>\n",
       "    <tr>\n",
       "      <th>min</th>\n",
       "      <td>0.000000</td>\n",
       "      <td>1000.000000</td>\n",
       "      <td>0.000000</td>\n",
       "      <td>5000.000000</td>\n",
       "    </tr>\n",
       "    <tr>\n",
       "      <th>25%</th>\n",
       "      <td>1050.000000</td>\n",
       "      <td>1999.000000</td>\n",
       "      <td>69.000000</td>\n",
       "      <td>125000.000000</td>\n",
       "    </tr>\n",
       "    <tr>\n",
       "      <th>50%</th>\n",
       "      <td>2700.000000</td>\n",
       "      <td>2003.000000</td>\n",
       "      <td>105.000000</td>\n",
       "      <td>150000.000000</td>\n",
       "    </tr>\n",
       "    <tr>\n",
       "      <th>75%</th>\n",
       "      <td>6400.000000</td>\n",
       "      <td>2008.000000</td>\n",
       "      <td>143.000000</td>\n",
       "      <td>150000.000000</td>\n",
       "    </tr>\n",
       "    <tr>\n",
       "      <th>max</th>\n",
       "      <td>20000.000000</td>\n",
       "      <td>9999.000000</td>\n",
       "      <td>20000.000000</td>\n",
       "      <td>150000.000000</td>\n",
       "    </tr>\n",
       "  </tbody>\n",
       "</table>\n",
       "</div>"
      ],
      "text/plain": [
       "               price  registration_year          power      kilometer\n",
       "count  354369.000000      354369.000000  354369.000000  354369.000000\n",
       "mean     4416.656776        2004.234448     110.094337  128211.172535\n",
       "std      4514.158514          90.227958     189.850405   37905.341530\n",
       "min         0.000000        1000.000000       0.000000    5000.000000\n",
       "25%      1050.000000        1999.000000      69.000000  125000.000000\n",
       "50%      2700.000000        2003.000000     105.000000  150000.000000\n",
       "75%      6400.000000        2008.000000     143.000000  150000.000000\n",
       "max     20000.000000        9999.000000   20000.000000  150000.000000"
      ]
     },
     "execution_count": 13,
     "metadata": {},
     "output_type": "execute_result"
    }
   ],
   "source": [
    "df.describe()"
   ]
  },
  {
   "attachments": {},
   "cell_type": "markdown",
   "metadata": {},
   "source": [
    "1. Value column contains zero values and possibly unrealistically small values\n",
    "2. There are anomalous values in the column with the year of registration\n",
    "3. There are also anomalous values in `power` and `kilometer`\n",
    "\n",
    "First, let's deal with the anomalous values in the columns with power and mileage. It is proposed to replace all values lying outside the limits of three sigma by the nearest neighbor method"
   ]
  },
  {
   "cell_type": "code",
   "execution_count": null,
   "metadata": {},
   "outputs": [
    {
     "name": "stderr",
     "output_type": "stream",
     "text": [
      "/tmp/ipykernel_48/1417205025.py:6: FutureWarning: Automatic reindexing on DataFrame vs Series comparisons is deprecated and will raise ValueError in a future version.  Do `left, right = left.align(right, axis=1, copy=False)` before e.g. `left == right`\n",
      "  df_selected = df_selected[(df - df_selected.mean()).abs() <= 3 * df_selected.std()]\n"
     ]
    }
   ],
   "source": [
    "#Столбцы для замены\n",
    "cols_to_impute = ['power', 'kilometer']\n",
    "df_selected = df[cols_to_impute]\n",
    "\n",
    "#Оставляем только значения в пределах трех сигм\n",
    "df_selected = df_selected[(df - df_selected.mean()).abs() <= 3 * df_selected.std()]\n",
    "\n",
    "#Воспользуемся методом ближайщих соседей для заполнения образовавшихся пропусков\n",
    "imputer = KNNImputer()\n",
    "df_imputed = imputer.fit_transform(df_selected)\n",
    "\n",
    "#Заменим значения в столбцах и проверим датафрейм\n",
    "df[cols_to_impute] = df_imputed\n",
    "df.head()"
   ]
  },
  {
   "attachments": {},
   "cell_type": "markdown",
   "metadata": {},
   "source": [
    "Gaps in the `repaired` column are interpreted as `no`"
   ]
  },
  {
   "cell_type": "code",
   "execution_count": null,
   "metadata": {},
   "outputs": [],
   "source": [
    "df['repaired'].fillna(value='no', inplace = True)\n",
    "df.reset_index(drop = True, inplace = True)\n",
    "df"
   ]
  },
  {
   "attachments": {},
   "cell_type": "markdown",
   "metadata": {},
   "source": [
    "Check unique values in columns `vehicle_type`, `gearbox`, `model`, `fuel_type` and `brand`"
   ]
  },
  {
   "cell_type": "code",
   "execution_count": null,
   "metadata": {},
   "outputs": [],
   "source": [
    "df['vehicle_type'].unique()"
   ]
  },
  {
   "cell_type": "code",
   "execution_count": null,
   "metadata": {},
   "outputs": [],
   "source": [
    "df['gearbox'].unique()"
   ]
  },
  {
   "cell_type": "code",
   "execution_count": null,
   "metadata": {},
   "outputs": [],
   "source": [
    "df['model'].unique()"
   ]
  },
  {
   "cell_type": "code",
   "execution_count": null,
   "metadata": {},
   "outputs": [],
   "source": [
    "df['fuel_type'].unique()"
   ]
  },
  {
   "cell_type": "code",
   "execution_count": null,
   "metadata": {},
   "outputs": [],
   "source": [
    "df['brand'].unique()"
   ]
  },
  {
   "attachments": {},
   "cell_type": "markdown",
   "metadata": {},
   "source": [
    "Remove the missing values in the `gearbox` column, in other cases, you can replace the gaps with the value `other`, since it is already there."
   ]
  },
  {
   "cell_type": "code",
   "execution_count": null,
   "metadata": {},
   "outputs": [],
   "source": [
    "df.dropna(subset=['gearbox'], inplace=True)\n",
    "df.info()"
   ]
  },
  {
   "cell_type": "code",
   "execution_count": null,
   "metadata": {},
   "outputs": [],
   "source": [
    "df.fillna(value='other', inplace = True)\n",
    "df.reset_index()\n",
    "df.info()"
   ]
  },
  {
   "attachments": {},
   "cell_type": "markdown",
   "metadata": {},
   "source": [
    "There are no passes left. Ab values in the column with the price will have to be removed"
   ]
  },
  {
   "cell_type": "code",
   "execution_count": null,
   "metadata": {},
   "outputs": [],
   "source": [
    "df = df[(df['price'] > df['price'].mean() - 3 * df['price'].std()) & (df['price'] < df['price'].mean() + 3 * df['price'].std())]\n",
    "df.reset_index(drop = True, inplace = True)\n",
    "df"
   ]
  },
  {
   "attachments": {},
   "cell_type": "markdown",
   "metadata": {},
   "source": [
    "Abnormal values in the column with the year of registration will be replaced according to the following scheme: delete values less than 1970 and more than 2016 (since this is the date of downloading the questionnaires)"
   ]
  },
  {
   "cell_type": "code",
   "execution_count": null,
   "metadata": {},
   "outputs": [],
   "source": [
    "df = df[(df['registration_year'] > 1970) & (df['registration_year'] < 2016)]\n",
    "df.reset_index(drop = True, inplace = True)\n",
    "df.info()"
   ]
  },
  {
   "attachments": {},
   "cell_type": "markdown",
   "metadata": {},
   "source": [
    "Check for duplicates"
   ]
  },
  {
   "cell_type": "code",
   "execution_count": null,
   "metadata": {},
   "outputs": [],
   "source": [
    "df.duplicated().sum()"
   ]
  },
  {
   "attachments": {},
   "cell_type": "markdown",
   "metadata": {},
   "source": [
    "The data contains a sufficiently large number of duplicates, they will have to be removed."
   ]
  },
  {
   "cell_type": "code",
   "execution_count": null,
   "metadata": {},
   "outputs": [],
   "source": [
    "df = df.drop_duplicates().reset_index(drop=True) \n",
    "df.duplicated().sum()"
   ]
  },
  {
   "attachments": {},
   "cell_type": "markdown",
   "metadata": {},
   "source": [
    "Build a heat map of quantitative data correlation"
   ]
  },
  {
   "cell_type": "code",
   "execution_count": null,
   "metadata": {},
   "outputs": [],
   "source": [
    "sns.heatmap(df.corr(method='spearman'), vmin=-1, vmax=1, annot=True)\n",
    "plt.show()"
   ]
  },
  {
   "attachments": {},
   "cell_type": "markdown",
   "metadata": {},
   "source": [
    "**Conclusion:**\n",
    "  1. The data contained a large number of anomalous values, gaps and duplicates.\n",
    "  2. After preprocessing the data, it was possible to save 260706 lines out of 354369, which is approximately 73%.\n",
    "  3. There is a slight correlation between two features: year of registration and mileage.\n",
    "  5. Data is prepared and ready for model training."
   ]
  },
  {
   "attachments": {},
   "cell_type": "markdown",
   "metadata": {},
   "source": [
    "## Model training"
   ]
  },
  {
   "attachments": {},
   "cell_type": "markdown",
   "metadata": {},
   "source": [
    "Split into two samples: training and test"
   ]
  },
  {
   "cell_type": "code",
   "execution_count": null,
   "metadata": {},
   "outputs": [],
   "source": [
    "#Target - car price\n",
    "target = df['price']\n",
    "\n",
    "#Features\n",
    "features = df.drop(['price'], axis=1)\n",
    "\n",
    "features_train, features_test, target_train, target_test = train_test_split(\n",
    "    features, target, test_size=0.25, random_state=12345)\n",
    "\n",
    "features_train = features_train.reset_index()\n",
    "features_test = features_test.reset_index()\n",
    "\n",
    "#Check sample shapes\n",
    "print(features_train.shape, features_test.shape)"
   ]
  },
  {
   "cell_type": "code",
   "execution_count": null,
   "metadata": {},
   "outputs": [],
   "source": [
    "ohe = OneHotEncoder(drop='first')\n",
    "\n",
    "categorical_features = ['vehicle_type', 'gearbox', 'model', 'fuel_type', 'brand', 'repaired']\n",
    "\n",
    "train_ohe = features_train.copy()\n",
    "test_ohe = features_test.copy()\n",
    "\n",
    "# Applying OneHotEncoder to categorical features on the training and test sets\n",
    "ohe_train = ohe.fit_transform(train_ohe[categorical_features])\n",
    "ohe_test = ohe.transform(test_ohe[categorical_features])\n",
    "                         \n",
    "train_ohe_encoded = pd.DataFrame(ohe_train.toarray(), columns=ohe.get_feature_names(categorical_features))\n",
    "test_ohe_encoded = pd.DataFrame(ohe_test.toarray(), columns=ohe.get_feature_names(categorical_features))  \n",
    "\n",
    "train_ohe.drop(categorical_features, axis=1, inplace=True)\n",
    "test_ohe.drop(categorical_features, axis=1, inplace=True)\n",
    "train_ohe = pd.concat([train_ohe, train_ohe_encoded], axis=1)\n",
    "test_ohe = pd.concat([test_ohe, test_ohe_encoded], axis=1)\n",
    "                         \n",
    "train_ohe.set_index('index', inplace = True)\n",
    "test_ohe.set_index('index', inplace = True)\n",
    "train_ohe"
   ]
  },
  {
   "cell_type": "code",
   "execution_count": null,
   "metadata": {},
   "outputs": [],
   "source": [
    "encoder = OrdinalEncoder()\n",
    "\n",
    "train_oe = features_train.copy()\n",
    "test_oe = features_test.copy()\n",
    "\n",
    "# Applying OrdinalEncoder to categorical features on the training and test sets\n",
    "oe_train = encoder.fit_transform(train_oe[categorical_features])\n",
    "oe_test = encoder.transform(test_oe[categorical_features])\n",
    "                         \n",
    "train_oe_encoded = pd.DataFrame(oe_train, columns=categorical_features)\n",
    "test_oe_encoded = pd.DataFrame(oe_test, columns=categorical_features)\n",
    "\n",
    "train_oe.drop(categorical_features, axis=1, inplace=True)\n",
    "test_oe.drop(categorical_features, axis=1, inplace=True)\n",
    "train_oe = pd.concat([train_oe, train_oe_encoded], axis=1)\n",
    "test_oe = pd.concat([test_oe, test_oe_encoded], axis=1)\n",
    "                         \n",
    "train_oe.set_index('index', inplace = True)\n",
    "test_oe.set_index('index', inplace = True)\n",
    "\n",
    "train_oe.head()"
   ]
  },
  {
   "attachments": {},
   "cell_type": "markdown",
   "metadata": {},
   "source": [
    "Standardize the samples. Train the StandardScaler on the training set and apply it to the training and test sets."
   ]
  },
  {
   "cell_type": "code",
   "execution_count": null,
   "metadata": {},
   "outputs": [],
   "source": [
    "scaler = StandardScaler()\n",
    "\n",
    "# Scale features in train_ohe and test_ohe dataframes\n",
    "train_ohe = scaler.fit_transform(train_ohe)\n",
    "test_ohe= scaler.transform(test_ohe)\n",
    "\n",
    "# Scale features in train_oe and test_oe dataframes\n",
    "train_oe = scaler.fit_transform(train_oe)\n",
    "test_oe = scaler.transform(test_oe)\n",
    "pd.options.mode.chained_assignment = None\n",
    "test_oe"
   ]
  },
  {
   "attachments": {},
   "cell_type": "markdown",
   "metadata": {},
   "source": [
    "Use RMSE as the main metric. Write a function for this metric"
   ]
  },
  {
   "cell_type": "code",
   "execution_count": null,
   "metadata": {},
   "outputs": [],
   "source": [
    "def rmse(y_true, y_pred):\n",
    "    y_pred = pd.Series(y_pred)\n",
    "    return mean_squared_error(y_true, y_pred, squared = False)"
   ]
  },
  {
   "cell_type": "code",
   "execution_count": null,
   "metadata": {},
   "outputs": [],
   "source": [
    "scorer = make_scorer(rmse, greater_is_better=False)"
   ]
  },
  {
   "attachments": {},
   "cell_type": "markdown",
   "metadata": {},
   "source": [
    "Consider several models:\n",
    "1. **Ridge** is a linear regression model with L2 regularization. It is one of the classic machine learning models and is commonly used to predict numerical values.\n",
    "\n",
    "2. **DecisionTree** is a decision tree model that builds a decision tree based on given features. It is used to solve classification and regression.\n",
    "\n",
    "3. **CatBoost** is a gradient boosting algorithm developed by Yandex. It is based on decision trees and is designed to solve classification and regression. CatBoost has a number of advantages over other boosting algorithms, such as resistance to overfitting, the ability to work with categorical features, and fast training time.\n",
    "\n",
    "4. **LGBM** is a gradient boosting algorithm that uses a histogram approach to build decision trees. It is designed to solve classification and regression problems and is one of the fastest and most efficient gradient boosting algorithms.\n",
    "\n",
    "5. **Dummy** is a dummy model that is used as the base model when compared to other models. Dummy does not make any predictions and always returns a constant value that can be set by the user. It can be used to test the quality of other models and determine how well a model performs compared to a simple stub model.\n",
    "\n",
    "Each of these models will be compared according to three characteristics:\n",
    "1. Learning time\n",
    "2. Time prediction\n",
    "3. RMSE value\n",
    "\n",
    "Use GridSearhCV for cross-validation and hyperparameter search."
   ]
  },
  {
   "cell_type": "code",
   "execution_count": null,
   "metadata": {},
   "outputs": [],
   "source": [
    "%%time\n",
    "#Linear regression\n",
    "model = Ridge()\n",
    "\n",
    "# Create a hyperparameter grid\n",
    "params = {'alpha': np.logspace(-3, 3, 7)}\n",
    "\n",
    "grid_search = GridSearchCV(model, params, cv=5, scoring = scorer)\n",
    "\n",
    "# Model training on data using GridSearchCV\n",
    "grid_search.fit(train_ohe, target_train)"
   ]
  },
  {
   "cell_type": "code",
   "execution_count": null,
   "metadata": {},
   "outputs": [],
   "source": [
    "%%time\n",
    "\n",
    "# best parameters\n",
    "best_params = grid_search.best_params_\n",
    "\n",
    "best_model = grid_search.best_estimator_\n",
    "rmse_ridge = -grid_search.best_score_\n",
    "\n",
    "time_fit_ridge = grid_search.cv_results_['mean_fit_time'].sum()\n",
    "time_pred_ridge = grid_search.cv_results_['mean_score_time'].sum()\n",
    "\n",
    "print(\"Best Hyperparameters:\", grid_search.best_params_)\n",
    "print(\"RMSE: \", rmse_ridge)\n",
    "print(\"Mean fit time:\", time_fit_ridge)\n",
    "print(\"Mean score time:\", time_pred_ridge)"
   ]
  },
  {
   "attachments": {},
   "cell_type": "markdown",
   "metadata": {},
   "source": [
    "The model works very fast, also, according to the customer's requirement, the RMSE metric should be less than 2500, Ridge satisfies this criterion."
   ]
  },
  {
   "cell_type": "code",
   "execution_count": null,
   "metadata": {},
   "outputs": [],
   "source": [
    "%%time\n",
    "# Create a hyperparameter grid\n",
    "param_grid = { 'max_depth': range (1,101, 10),\n",
    "              'min_samples_leaf': range (1,20, 2),\n",
    "              'min_samples_split': range (1,20,2) }\n",
    "\n",
    "# Decision Tree Model\n",
    "regressor = DecisionTreeRegressor(random_state=12345)\n",
    "\n",
    "grid_search = GridSearchCV(regressor, param_grid, scoring = scorer, cv=5)\n",
    "    \n",
    "# Fitting\n",
    "grid_search.fit(train_oe, target_train)\n"
   ]
  },
  {
   "cell_type": "code",
   "execution_count": null,
   "metadata": {},
   "outputs": [],
   "source": [
    "%%time\n",
    "\n",
    "# Best parameters\n",
    "best_params = grid_search.best_params_\n",
    "\n",
    "best_model = grid_search.best_estimator_\n",
    "rmse_tree = -grid_search.best_score_\n",
    "\n",
    "time_fit_tree = grid_search.cv_results_['mean_fit_time'].sum()\n",
    "time_pred_tree = grid_search.cv_results_['mean_score_time'].sum()\n",
    "\n",
    "print(\"Best Hyperparameters:\", best_params)\n",
    "print(\"RMSE: \", rmse_tree)\n",
    "print(\"Mean fit time:\", time_fit_tree)\n",
    "print(\"Mean score time:\", time_pred_tree)"
   ]
  },
  {
   "attachments": {},
   "cell_type": "markdown",
   "metadata": {},
   "source": [
    "The Decision Tree model showed the best RMSE value, but an extremely long training time."
   ]
  },
  {
   "cell_type": "code",
   "execution_count": null,
   "metadata": {},
   "outputs": [],
   "source": [
    "%%time\n",
    "\n",
    "# Create a hyperparameter grid\n",
    "params = {\n",
    "    'depth': [4, 6, 8],\n",
    "    'learning_rate': [0.01, 0.05, 0.1],\n",
    "    'iterations': [100, 500, 1000]\n",
    "}\n",
    "\n",
    "# CatBoostRegressor\n",
    "model = CatBoostRegressor(random_state=12345)\n",
    "\n",
    "# Fitting\n",
    "grid_search = GridSearchCV(model, param_grid=params, scoring = scorer, cv=5)\n",
    "grid_search.fit(train_oe, target_train)"
   ]
  },
  {
   "cell_type": "code",
   "execution_count": null,
   "metadata": {},
   "outputs": [],
   "source": [
    "%%time\n",
    "\n",
    "best_model_cat = grid_search.best_estimator_\n",
    "rmse_CatBoost = -grid_search.best_score_ \n",
    "\n",
    "time_fit_cat = grid_search.cv_results_['mean_fit_time'].sum()\n",
    "time_pred_cat = grid_search.cv_results_['mean_score_time'].sum()\n",
    "\n",
    "print(\"Best Hyperparameters:\", grid_search.best_params_)\n",
    "print(\"RMSE:\", rmse_CatBoost)\n",
    "print(\"Mean fit time:\", time_fit_cat)\n",
    "print(\"Mean score time:\", time_pred_cat)"
   ]
  },
  {
   "attachments": {},
   "cell_type": "markdown",
   "metadata": {},
   "source": [
    "CatBoost gives good RMSE and also training and prediction is faster."
   ]
  },
  {
   "cell_type": "code",
   "execution_count": null,
   "metadata": {},
   "outputs": [],
   "source": [
    "%%time\n",
    "\n",
    "#LGBMRegressor\n",
    "model_LGBM = LGBMRegressor()\n",
    "\n",
    "# Create a hyperparameter grid\n",
    "params = {\n",
    "    'learning_rate': [0.05, 0.1, 0.2],\n",
    "    'n_estimators': [50, 100, 200],\n",
    "    'max_depth': [3, 5, 7],\n",
    "    'num_leaves': [5, 10, 15]\n",
    "}\n",
    "\n",
    "#Fitting\n",
    "grid = GridSearchCV(estimator=model_LGBM, param_grid=params, cv=5, scoring=scorer)\n",
    "grid.fit(train_oe, target_train)"
   ]
  },
  {
   "cell_type": "code",
   "execution_count": null,
   "metadata": {},
   "outputs": [],
   "source": [
    "%%time\n",
    "\n",
    "best_model = grid.best_estimator_\n",
    "rmse_LGBM = -grid.best_score_\n",
    "\n",
    "time_fit_LGBM = grid.cv_results_['mean_fit_time'].sum()\n",
    "time_pred_LGBM = grid.cv_results_['mean_score_time'].sum()\n",
    "\n",
    "print(\"Best Hyperparameters:\", grid.best_params_)\n",
    "print(\"RMSE:\", rmse_LGBM)\n",
    "print(\"Mean fit time:\", time_fit_LGBM)\n",
    "print(\"Mean score time:\", time_pred_LGBM)"
   ]
  },
  {
   "attachments": {},
   "cell_type": "markdown",
   "metadata": {},
   "source": [
    "The LightGBM boosting algorithm also gives a good RMSE metric while learning faster. The prediction time is the longest."
   ]
  },
  {
   "cell_type": "code",
   "execution_count": null,
   "metadata": {},
   "outputs": [],
   "source": [
    "%%time\n",
    "\n",
    "#Compare values with constant model\n",
    "dummy = DummyRegressor()\n",
    "dummy.fit(train_oe, target_train)"
   ]
  },
  {
   "cell_type": "code",
   "execution_count": null,
   "metadata": {},
   "outputs": [],
   "source": [
    "%%time\n",
    "\n",
    "pred_dummy = dummy.predict(test_oe)\n",
    "rmse_dummy = rmse(target_test, pred_dummy)\n",
    "print(\"RMSE Dummy:\", rmse_dummy)"
   ]
  },
  {
   "attachments": {},
   "cell_type": "markdown",
   "metadata": {},
   "source": [
    "5 different models were trained, with different training methods. For all, the learning time and prediction were measured, as well as the RMSE value on the test set."
   ]
  },
  {
   "attachments": {},
   "cell_type": "markdown",
   "metadata": {},
   "source": [
    "## Model Analysis"
   ]
  },
  {
   "attachments": {},
   "cell_type": "markdown",
   "metadata": {},
   "source": [
    "Collect all the obtained values in a dataframe for convenient analysis."
   ]
  },
  {
   "cell_type": "code",
   "execution_count": null,
   "metadata": {},
   "outputs": [],
   "source": [
    "col  = ['ridge', 'DisissionTree', 'CatBoost', 'LGBM', 'dummy']\n",
    "time_fit = [time_fit_ridge, time_fit_tree, time_fit_cat, time_fit_LGBM, 0]\n",
    "time_pred = [time_pred_ridge, time_pred_tree, time_pred_cat, time_pred_LGBM, 0]\n",
    "RMSE = [rmse_ridge, rmse_tree, rmse_CatBoost, rmse_LGBM, rmse_dummy]"
   ]
  },
  {
   "cell_type": "code",
   "execution_count": null,
   "metadata": {},
   "outputs": [],
   "source": [
    "results = pd.DataFrame({'ridge': [time_fit[0], time_pred[0], RMSE[0]],\n",
    "                   'DecisionTree': [time_fit[1], time_pred[1], RMSE[1]],\n",
    "                   'CatBoost': [time_fit[2], time_pred[2], RMSE[2]],\n",
    "                   'LGBM': [time_fit[3], time_pred[3], RMSE[3]],\n",
    "                   'dummy': [time_fit[4], time_pred[4], RMSE[4]]},\n",
    "                  index=['time_fit', 'time_pred', 'RMSE'])\n",
    "results"
   ]
  },
  {
   "attachments": {},
   "cell_type": "markdown",
   "metadata": {},
   "source": [
    "Build a graph that displays the highest value in each of the categories among all models."
   ]
  },
  {
   "cell_type": "code",
   "execution_count": null,
   "metadata": {},
   "outputs": [],
   "source": [
    "# Set the style of the plots\n",
    "sns.set_style('whitegrid')\n",
    "\n",
    "# Create subplots\n",
    "fig, axs = plt.subplots(nrows=3, ncols=1, figsize=(8, 6))\n",
    "\n",
    "# Plot for time_fit\n",
    "sns.heatmap(results.loc[['time_fit']], ax=axs[0], cmap='coolwarm', annot=True, fmt='.0f', cbar=False)\n",
    "axs[0].set_ylabel('')\n",
    "\n",
    "# Plot for time_pred\n",
    "sns.heatmap(results.loc[['time_pred']], ax=axs[1], cmap='coolwarm', annot=True, fmt='.0f', cbar=False)\n",
    "axs[1].set_ylabel('')\n",
    "\n",
    "# Plot for rmse\n",
    "sns.heatmap(results.loc[['RMSE']], ax=axs[2], cmap='coolwarm', annot=True, fmt='.0f', cbar=False)\n",
    "\n",
    "# Set titles and labels for the plots\n",
    "axs[0].set_title('Скорость обучения')\n",
    "axs[1].set_title('Скорость предсказания')\n",
    "axs[2].set_title('Качество модели')\n",
    "\n",
    "# Rotate the tick labels for x-axis\n",
    "for ax in axs.flat:\n",
    "    plt.setp(ax.get_xticklabels(), rotation=0)\n",
    "\n",
    "plt.tight_layout()\n",
    "plt.show()"
   ]
  },
  {
   "cell_type": "code",
   "execution_count": null,
   "metadata": {},
   "outputs": [],
   "source": [
    "pred_cat = best_model_cat.predict(test_oe)\n",
    "\n",
    "# RMSE\n",
    "rmse_catboost = rmse(target_test, pred_cat)\n",
    "rmse_catboost"
   ]
  },
  {
   "attachments": {},
   "cell_type": "markdown",
   "metadata": {},
   "source": [
    "Several conclusions can be drawn from these values:\n",
    "\n",
    "1. **CatBoost** and **LGBM** show the best results in RMSE metric among all models. This may mean that they are the best at predicting the target variable.\n",
    "\n",
    "2. **Ridge** and **dummy** models have the worst RMSE results among all models. Ridge may be a less suitable model for this task, while dummy is a constant model.\n",
    "\n",
    "3. **DecisionTree** has the longest learning time. This may mean that this model is more complex or requires more processing power to train.\n",
    "\n",
    "4. **LGBM** model has the longest prediction time. This may mean that this model is more complex or requires more computational power for prediction.\n",
    "\n",
    "5. Based on these findings, we can conclude that **CatBoost** and **LGBM** are probably the most suitable models for this task, but using these models may require more time and computing power than other models."
   ]
  }
 ],
 "metadata": {
  "ExecuteTimeLog": [
   {
    "duration": 1571,
    "start_time": "2023-02-10T09:56:04.132Z"
   },
   {
    "duration": 3151,
    "start_time": "2023-02-10T09:57:26.748Z"
   },
   {
    "duration": 136,
    "start_time": "2023-02-10T09:57:42.033Z"
   },
   {
    "duration": 16,
    "start_time": "2023-02-10T09:57:51.695Z"
   },
   {
    "duration": 5,
    "start_time": "2023-02-10T09:59:01.824Z"
   },
   {
    "duration": 4,
    "start_time": "2023-02-10T10:08:48.483Z"
   },
   {
    "duration": 837,
    "start_time": "2023-02-10T10:17:36.722Z"
   },
   {
    "duration": 12,
    "start_time": "2023-02-10T10:17:38.315Z"
   },
   {
    "duration": 53,
    "start_time": "2023-02-10T10:19:30.394Z"
   },
   {
    "duration": 4,
    "start_time": "2023-02-10T10:19:31.575Z"
   },
   {
    "duration": 27,
    "start_time": "2023-02-10T10:19:34.634Z"
   },
   {
    "duration": 61,
    "start_time": "2023-02-10T10:22:59.894Z"
   },
   {
    "duration": 3,
    "start_time": "2023-02-10T10:23:01.278Z"
   },
   {
    "duration": 20,
    "start_time": "2023-02-10T10:23:02.297Z"
   },
   {
    "duration": 16,
    "start_time": "2023-02-10T10:24:04.537Z"
   },
   {
    "duration": 13,
    "start_time": "2023-02-10T10:46:00.079Z"
   },
   {
    "duration": 862,
    "start_time": "2023-02-10T10:46:07.936Z"
   },
   {
    "duration": 66,
    "start_time": "2023-02-10T10:46:11.035Z"
   },
   {
    "duration": 4,
    "start_time": "2023-02-10T10:46:12.775Z"
   },
   {
    "duration": 16,
    "start_time": "2023-02-10T10:46:13.558Z"
   },
   {
    "duration": 38,
    "start_time": "2023-02-10T10:47:54.937Z"
   },
   {
    "duration": 63,
    "start_time": "2023-02-10T11:00:51.721Z"
   },
   {
    "duration": 21,
    "start_time": "2023-02-10T11:05:51.830Z"
   },
   {
    "duration": 436551,
    "start_time": "2023-02-10T11:08:28.116Z"
   },
   {
    "duration": 880,
    "start_time": "2023-02-10T11:24:44.436Z"
   },
   {
    "duration": 300318,
    "start_time": "2023-02-10T11:24:49.071Z"
   },
   {
    "duration": 834,
    "start_time": "2023-02-10T11:34:16.366Z"
   },
   {
    "duration": 295002,
    "start_time": "2023-02-10T11:34:23.018Z"
   },
   {
    "duration": 30,
    "start_time": "2023-02-10T11:39:30.247Z"
   },
   {
    "duration": 17,
    "start_time": "2023-02-10T11:40:42.676Z"
   },
   {
    "duration": 11,
    "start_time": "2023-02-10T11:41:02.273Z"
   },
   {
    "duration": 817,
    "start_time": "2023-02-10T11:42:46.872Z"
   },
   {
    "duration": 137,
    "start_time": "2023-02-10T11:42:53.207Z"
   },
   {
    "duration": 24,
    "start_time": "2023-02-10T11:43:01.926Z"
   },
   {
    "duration": 4,
    "start_time": "2023-02-10T11:43:02.696Z"
   },
   {
    "duration": 18,
    "start_time": "2023-02-10T11:43:03.342Z"
   },
   {
    "duration": 23,
    "start_time": "2023-02-10T11:43:04.287Z"
   },
   {
    "duration": 30324,
    "start_time": "2023-02-10T11:43:08.277Z"
   },
   {
    "duration": 516,
    "start_time": "2023-02-10T11:44:12.380Z"
   },
   {
    "duration": 872,
    "start_time": "2023-02-10T11:46:06.040Z"
   },
   {
    "duration": 63,
    "start_time": "2023-02-10T11:46:09.917Z"
   },
   {
    "duration": 3,
    "start_time": "2023-02-10T11:46:10.637Z"
   },
   {
    "duration": 19,
    "start_time": "2023-02-10T11:46:11.318Z"
   },
   {
    "duration": 29,
    "start_time": "2023-02-10T11:46:13.383Z"
   },
   {
    "duration": 404822,
    "start_time": "2023-02-10T11:46:15.917Z"
   },
   {
    "duration": 224,
    "start_time": "2023-02-10T11:54:35.372Z"
   },
   {
    "duration": 112,
    "start_time": "2023-02-10T11:56:06.188Z"
   },
   {
    "duration": 175,
    "start_time": "2023-02-10T11:56:20.584Z"
   },
   {
    "duration": 36,
    "start_time": "2023-02-10T11:59:16.088Z"
   },
   {
    "duration": 21,
    "start_time": "2023-02-10T12:00:11.904Z"
   },
   {
    "duration": 824,
    "start_time": "2023-02-10T12:00:33.382Z"
   },
   {
    "duration": 60,
    "start_time": "2023-02-10T12:00:37.863Z"
   },
   {
    "duration": 3,
    "start_time": "2023-02-10T12:00:38.689Z"
   },
   {
    "duration": 13,
    "start_time": "2023-02-10T12:00:39.001Z"
   },
   {
    "duration": 23,
    "start_time": "2023-02-10T12:00:40.871Z"
   },
   {
    "duration": 51,
    "start_time": "2023-02-10T12:00:44.584Z"
   },
   {
    "duration": 76,
    "start_time": "2023-02-10T12:01:16.817Z"
   },
   {
    "duration": 11,
    "start_time": "2023-02-10T12:01:20.648Z"
   },
   {
    "duration": 1420,
    "start_time": "2023-02-10T12:01:23.585Z"
   },
   {
    "duration": 3392,
    "start_time": "2023-02-10T12:01:25.814Z"
   },
   {
    "duration": 18,
    "start_time": "2023-02-10T12:01:38.417Z"
   },
   {
    "duration": 3,
    "start_time": "2023-02-10T12:01:49.066Z"
   },
   {
    "duration": 837,
    "start_time": "2023-02-10T12:01:49.874Z"
   },
   {
    "duration": 15,
    "start_time": "2023-02-10T12:01:50.818Z"
   },
   {
    "duration": 156,
    "start_time": "2023-02-10T12:01:51.610Z"
   },
   {
    "duration": 68,
    "start_time": "2023-02-10T12:01:53.810Z"
   },
   {
    "duration": 4,
    "start_time": "2023-02-10T12:01:54.346Z"
   },
   {
    "duration": 16,
    "start_time": "2023-02-10T12:01:54.771Z"
   },
   {
    "duration": 36,
    "start_time": "2023-02-10T12:01:55.866Z"
   },
   {
    "duration": 59,
    "start_time": "2023-02-10T12:01:57.164Z"
   },
   {
    "duration": 55,
    "start_time": "2023-02-10T12:02:19.547Z"
   },
   {
    "duration": 1381,
    "start_time": "2023-02-10T12:02:41.626Z"
   },
   {
    "duration": 3010,
    "start_time": "2023-02-10T12:02:43.698Z"
   },
   {
    "duration": 61,
    "start_time": "2023-02-10T12:02:50.346Z"
   },
   {
    "duration": 4,
    "start_time": "2023-02-10T12:02:51.129Z"
   },
   {
    "duration": 18,
    "start_time": "2023-02-10T12:02:51.762Z"
   },
   {
    "duration": 31,
    "start_time": "2023-02-10T12:02:53.585Z"
   },
   {
    "duration": 48,
    "start_time": "2023-02-10T12:03:34.778Z"
   },
   {
    "duration": 1447,
    "start_time": "2023-02-10T12:03:43.289Z"
   },
   {
    "duration": 3045,
    "start_time": "2023-02-10T12:03:45.873Z"
   },
   {
    "duration": 70,
    "start_time": "2023-02-10T12:03:48.920Z"
   },
   {
    "duration": 4,
    "start_time": "2023-02-10T12:03:50.121Z"
   },
   {
    "duration": 18,
    "start_time": "2023-02-10T12:03:51.329Z"
   },
   {
    "duration": 30,
    "start_time": "2023-02-10T12:03:56.113Z"
   },
   {
    "duration": 63,
    "start_time": "2023-02-10T12:03:59.033Z"
   },
   {
    "duration": 181,
    "start_time": "2023-02-10T12:04:02.617Z"
   },
   {
    "duration": 22,
    "start_time": "2023-02-10T12:04:53.737Z"
   },
   {
    "duration": 27,
    "start_time": "2023-02-10T12:05:04.993Z"
   },
   {
    "duration": 20,
    "start_time": "2023-02-10T12:05:14.033Z"
   },
   {
    "duration": 28,
    "start_time": "2023-02-10T12:05:37.753Z"
   },
   {
    "duration": 28,
    "start_time": "2023-02-10T12:05:50.448Z"
   },
   {
    "duration": 16,
    "start_time": "2023-02-10T12:07:38.414Z"
   },
   {
    "duration": 17,
    "start_time": "2023-02-10T12:07:38.942Z"
   },
   {
    "duration": 22,
    "start_time": "2023-02-10T12:07:39.519Z"
   },
   {
    "duration": 17,
    "start_time": "2023-02-10T12:07:42.383Z"
   },
   {
    "duration": 53,
    "start_time": "2023-02-10T12:09:22.542Z"
   },
   {
    "duration": 90,
    "start_time": "2023-02-10T12:09:29.919Z"
   },
   {
    "duration": 844,
    "start_time": "2023-02-10T12:09:40.341Z"
   },
   {
    "duration": 67,
    "start_time": "2023-02-10T12:09:45.005Z"
   },
   {
    "duration": 3,
    "start_time": "2023-02-10T12:09:45.557Z"
   },
   {
    "duration": 14,
    "start_time": "2023-02-10T12:09:46.061Z"
   },
   {
    "duration": 23,
    "start_time": "2023-02-10T12:09:46.917Z"
   },
   {
    "duration": 127,
    "start_time": "2023-02-10T12:09:56.405Z"
   },
   {
    "duration": 127,
    "start_time": "2023-02-10T12:09:59.029Z"
   },
   {
    "duration": 766,
    "start_time": "2023-02-10T12:10:41.524Z"
   },
   {
    "duration": 40,
    "start_time": "2023-02-10T12:10:44.988Z"
   },
   {
    "duration": 4,
    "start_time": "2023-02-10T12:10:45.548Z"
   },
   {
    "duration": 16,
    "start_time": "2023-02-10T12:10:46.028Z"
   },
   {
    "duration": 30,
    "start_time": "2023-02-10T12:10:47.316Z"
   },
   {
    "duration": 60,
    "start_time": "2023-02-10T12:10:50.364Z"
   },
   {
    "duration": 123,
    "start_time": "2023-02-10T12:10:54.780Z"
   },
   {
    "duration": 232,
    "start_time": "2023-02-10T12:10:56.284Z"
   },
   {
    "duration": 65,
    "start_time": "2023-02-10T12:11:41.900Z"
   },
   {
    "duration": 1382,
    "start_time": "2023-02-10T12:11:43.748Z"
   },
   {
    "duration": 3151,
    "start_time": "2023-02-10T12:11:45.133Z"
   },
   {
    "duration": 3,
    "start_time": "2023-02-10T12:12:04.708Z"
   },
   {
    "duration": 884,
    "start_time": "2023-02-10T12:12:11.563Z"
   },
   {
    "duration": 26,
    "start_time": "2023-02-10T12:12:13.187Z"
   },
   {
    "duration": 156,
    "start_time": "2023-02-10T12:12:14.268Z"
   },
   {
    "duration": 51,
    "start_time": "2023-02-10T12:12:17.707Z"
   },
   {
    "duration": 4,
    "start_time": "2023-02-10T12:12:18.211Z"
   },
   {
    "duration": 14,
    "start_time": "2023-02-10T12:12:18.723Z"
   },
   {
    "duration": 35,
    "start_time": "2023-02-10T12:12:20.036Z"
   },
   {
    "duration": 61,
    "start_time": "2023-02-10T12:12:22.580Z"
   },
   {
    "duration": 2715,
    "start_time": "2023-03-05T04:15:32.647Z"
   },
   {
    "duration": 2286,
    "start_time": "2023-03-05T04:15:35.365Z"
   },
   {
    "duration": 1684,
    "start_time": "2023-03-05T04:15:37.653Z"
   },
   {
    "duration": 1128,
    "start_time": "2023-03-05T04:15:39.339Z"
   },
   {
    "duration": 16,
    "start_time": "2023-03-05T04:15:40.469Z"
   },
   {
    "duration": 126,
    "start_time": "2023-03-05T04:15:40.486Z"
   },
   {
    "duration": 55,
    "start_time": "2023-03-05T04:15:40.613Z"
   },
   {
    "duration": 3,
    "start_time": "2023-03-05T04:15:40.670Z"
   },
   {
    "duration": 18,
    "start_time": "2023-03-05T04:15:40.674Z"
   },
   {
    "duration": 280,
    "start_time": "2023-03-05T04:15:40.694Z"
   },
   {
    "duration": 142,
    "start_time": "2023-03-05T04:15:40.976Z"
   },
   {
    "duration": 49,
    "start_time": "2023-03-05T04:15:41.120Z"
   },
   {
    "duration": 59,
    "start_time": "2023-03-05T04:15:41.171Z"
   },
   {
    "duration": 2390,
    "start_time": "2023-03-08T23:11:54.850Z"
   },
   {
    "duration": 2097,
    "start_time": "2023-03-08T23:11:57.243Z"
   },
   {
    "duration": 1720,
    "start_time": "2023-03-08T23:11:59.342Z"
   },
   {
    "duration": 790,
    "start_time": "2023-03-08T23:12:01.064Z"
   },
   {
    "duration": 16,
    "start_time": "2023-03-08T23:12:01.856Z"
   },
   {
    "duration": 336,
    "start_time": "2023-03-08T23:12:01.873Z"
   },
   {
    "duration": 59,
    "start_time": "2023-03-08T23:12:02.211Z"
   },
   {
    "duration": 30,
    "start_time": "2023-03-08T23:12:02.272Z"
   },
   {
    "duration": 68,
    "start_time": "2023-03-08T23:12:02.303Z"
   },
   {
    "duration": 278,
    "start_time": "2023-03-08T23:12:02.373Z"
   },
   {
    "duration": 138,
    "start_time": "2023-03-08T23:12:02.652Z"
   },
   {
    "duration": 51,
    "start_time": "2023-03-08T23:12:02.792Z"
   },
   {
    "duration": 57,
    "start_time": "2023-03-08T23:12:02.845Z"
   },
   {
    "duration": 3556,
    "start_time": "2023-03-12T11:02:02.200Z"
   },
   {
    "duration": 2422,
    "start_time": "2023-03-12T11:02:05.759Z"
   },
   {
    "duration": 1767,
    "start_time": "2023-03-12T11:02:08.183Z"
   },
   {
    "duration": 1055,
    "start_time": "2023-03-12T11:02:09.951Z"
   },
   {
    "duration": 17,
    "start_time": "2023-03-12T11:02:11.008Z"
   },
   {
    "duration": 132,
    "start_time": "2023-03-12T11:02:11.027Z"
   },
   {
    "duration": 56,
    "start_time": "2023-03-12T11:02:11.161Z"
   },
   {
    "duration": 4,
    "start_time": "2023-03-12T11:02:11.219Z"
   },
   {
    "duration": 14,
    "start_time": "2023-03-12T11:02:11.225Z"
   },
   {
    "duration": 288,
    "start_time": "2023-03-12T11:02:11.241Z"
   },
   {
    "duration": 144,
    "start_time": "2023-03-12T11:02:11.530Z"
   },
   {
    "duration": 53,
    "start_time": "2023-03-12T11:02:11.675Z"
   },
   {
    "duration": 71,
    "start_time": "2023-03-12T11:02:11.731Z"
   }
  ],
  "celltoolbar": "Отсутствует",
  "kernelspec": {
   "display_name": "Python 3 (ipykernel)",
   "language": "python",
   "name": "python3"
  },
  "language_info": {
   "codemirror_mode": {
    "name": "ipython",
    "version": 3
   },
   "file_extension": ".py",
   "mimetype": "text/x-python",
   "name": "python",
   "nbconvert_exporter": "python",
   "pygments_lexer": "ipython3",
   "version": "3.9.13"
  },
  "toc": {
   "base_numbering": 1,
   "nav_menu": {},
   "number_sections": true,
   "sideBar": true,
   "skip_h1_title": true,
   "title_cell": "Table of Contents",
   "title_sidebar": "Contents",
   "toc_cell": false,
   "toc_position": {},
   "toc_section_display": true,
   "toc_window_display": false
  }
 },
 "nbformat": 4,
 "nbformat_minor": 2
}
